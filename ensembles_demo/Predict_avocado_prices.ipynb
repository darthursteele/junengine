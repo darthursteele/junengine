{
 "cells": [
  {
   "cell_type": "markdown",
   "metadata": {
    "collapsed": true
   },
   "source": [
    "# Predicting US Domestic Avocado Prices\n",
    "\n",
    "Our goal is to build at least three models to predict the average US domestic Avocado price based on <a href=\"https://www.kaggle.com/neuromusic/avocado-prices/home\">historical data available on Kaggle</a> originating from the <a href=\"http://www.hassavocadoboard.com/retail/volume-and-price-data\">Haas Avocado Board</a>. \n",
    "\n",
    "The resulting models will be stacked in order to demonstrate the power of ensemble models in a subsequent notebook. \n",
    "\n",
    "## Description of the dataset\n",
    "\n",
    "The data represent weekly retail scan data for National retail volume (units) and price for an approximately 3-year period beginning in January 2015. Retail scan data comes directly from retailers’ cash registers based on actual retail sales of Hass avocados. \n",
    "\n",
    "The Average Price (of avocados) in the table reflects a per unit (per avocado) cost, even when multiple units (avocados) are sold in bags. The Product Lookup codes (PLU’s) in the table are only for Hass avocados. Other varieties of avocados (e.g. greenskins) are not included in this table.\n",
    "\n",
    "Some relevant columns in the dataset:\n",
    "\n",
    "<ul>\n",
    "<li>Date - The date of the observation\n",
    "<li>AveragePrice - the average price of a single avocado\n",
    "<li>type - conventional or organic\n",
    "<li>year - the year\n",
    "<li>Region - the city or region of the observation\n",
    "<li>Total Volume - Total number of avocados sold\n",
    "<li>4046 - Total number of avocados with PLU 4046 sold\n",
    "<li>4225 - Total number of avocados with PLU 4225 sold\n",
    "<li>4770 - Total number of avocados with PLU 4770 sold\n",
    "</ul>\n",
    "\n",
    "## Comment on modeling approaches\n",
    "\n",
    "This is a very rich dataset with a lot of possibilities for some interesting modeling approaches. We will start by constructing models that will take the average price across the US as the Y variable, and we will restrict our attention to the use of time-related variables as features of  X. Later, we might try to incorporate prior regional pricing and sales volume data at prior times. \n",
    "\n",
    "\n",
    "\n",
    "  "
   ]
  },
  {
   "cell_type": "code",
   "execution_count": 1,
   "metadata": {
    "collapsed": true,
    "scrolled": true
   },
   "outputs": [],
   "source": [
    "## Library imports\n",
    "import math\n",
    "import numpy as np\n",
    "import pandas as pd\n",
    "import datetime as dt\n",
    "import matplotlib.pyplot as plt\n",
    "\n",
    "from sklearn.preprocessing import StandardScaler\n",
    "from sklearn.pipeline import make_pipeline\n",
    "from sklearn.model_selection import cross_val_score\n",
    "from sklearn.model_selection import cross_validate\n",
    "from sklearn.model_selection import cross_val_predict\n",
    "from sklearn.model_selection import TimeSeriesSplit\n",
    "from sklearn.metrics import mean_squared_error\n",
    "from sklearn.metrics import mean_absolute_error\n",
    "from sklearn.ensemble import RandomForestRegressor\n",
    "from sklearn.linear_model import LinearRegression\n",
    "\n",
    "import xgboost as xgb\n",
    "from xgboost.sklearn import XGBRegressor\n",
    "\n",
    "from fbprophet import Prophet\n",
    "\n",
    "%matplotlib inline"
   ]
  },
  {
   "cell_type": "markdown",
   "metadata": {},
   "source": [
    "## Data Exploration and Cleaning"
   ]
  },
  {
   "cell_type": "code",
   "execution_count": 2,
   "metadata": {
    "scrolled": true
   },
   "outputs": [
    {
     "data": {
      "text/html": [
       "<div>\n",
       "<style scoped>\n",
       "    .dataframe tbody tr th:only-of-type {\n",
       "        vertical-align: middle;\n",
       "    }\n",
       "\n",
       "    .dataframe tbody tr th {\n",
       "        vertical-align: top;\n",
       "    }\n",
       "\n",
       "    .dataframe thead th {\n",
       "        text-align: right;\n",
       "    }\n",
       "</style>\n",
       "<table border=\"1\" class=\"dataframe\">\n",
       "  <thead>\n",
       "    <tr style=\"text-align: right;\">\n",
       "      <th></th>\n",
       "      <th>Unnamed: 0</th>\n",
       "      <th>Date</th>\n",
       "      <th>AveragePrice</th>\n",
       "      <th>Total Volume</th>\n",
       "      <th>4046</th>\n",
       "      <th>4225</th>\n",
       "      <th>4770</th>\n",
       "      <th>Total Bags</th>\n",
       "      <th>Small Bags</th>\n",
       "      <th>Large Bags</th>\n",
       "      <th>XLarge Bags</th>\n",
       "      <th>type</th>\n",
       "      <th>year</th>\n",
       "      <th>region</th>\n",
       "    </tr>\n",
       "  </thead>\n",
       "  <tbody>\n",
       "    <tr>\n",
       "      <th>0</th>\n",
       "      <td>0</td>\n",
       "      <td>2015-12-27</td>\n",
       "      <td>1.33</td>\n",
       "      <td>64236.62</td>\n",
       "      <td>1036.74</td>\n",
       "      <td>54454.85</td>\n",
       "      <td>48.16</td>\n",
       "      <td>8696.87</td>\n",
       "      <td>8603.62</td>\n",
       "      <td>93.25</td>\n",
       "      <td>0.0</td>\n",
       "      <td>conventional</td>\n",
       "      <td>2015</td>\n",
       "      <td>Albany</td>\n",
       "    </tr>\n",
       "    <tr>\n",
       "      <th>1</th>\n",
       "      <td>1</td>\n",
       "      <td>2015-12-20</td>\n",
       "      <td>1.35</td>\n",
       "      <td>54876.98</td>\n",
       "      <td>674.28</td>\n",
       "      <td>44638.81</td>\n",
       "      <td>58.33</td>\n",
       "      <td>9505.56</td>\n",
       "      <td>9408.07</td>\n",
       "      <td>97.49</td>\n",
       "      <td>0.0</td>\n",
       "      <td>conventional</td>\n",
       "      <td>2015</td>\n",
       "      <td>Albany</td>\n",
       "    </tr>\n",
       "    <tr>\n",
       "      <th>2</th>\n",
       "      <td>2</td>\n",
       "      <td>2015-12-13</td>\n",
       "      <td>0.93</td>\n",
       "      <td>118220.22</td>\n",
       "      <td>794.70</td>\n",
       "      <td>109149.67</td>\n",
       "      <td>130.50</td>\n",
       "      <td>8145.35</td>\n",
       "      <td>8042.21</td>\n",
       "      <td>103.14</td>\n",
       "      <td>0.0</td>\n",
       "      <td>conventional</td>\n",
       "      <td>2015</td>\n",
       "      <td>Albany</td>\n",
       "    </tr>\n",
       "    <tr>\n",
       "      <th>3</th>\n",
       "      <td>3</td>\n",
       "      <td>2015-12-06</td>\n",
       "      <td>1.08</td>\n",
       "      <td>78992.15</td>\n",
       "      <td>1132.00</td>\n",
       "      <td>71976.41</td>\n",
       "      <td>72.58</td>\n",
       "      <td>5811.16</td>\n",
       "      <td>5677.40</td>\n",
       "      <td>133.76</td>\n",
       "      <td>0.0</td>\n",
       "      <td>conventional</td>\n",
       "      <td>2015</td>\n",
       "      <td>Albany</td>\n",
       "    </tr>\n",
       "    <tr>\n",
       "      <th>4</th>\n",
       "      <td>4</td>\n",
       "      <td>2015-11-29</td>\n",
       "      <td>1.28</td>\n",
       "      <td>51039.60</td>\n",
       "      <td>941.48</td>\n",
       "      <td>43838.39</td>\n",
       "      <td>75.78</td>\n",
       "      <td>6183.95</td>\n",
       "      <td>5986.26</td>\n",
       "      <td>197.69</td>\n",
       "      <td>0.0</td>\n",
       "      <td>conventional</td>\n",
       "      <td>2015</td>\n",
       "      <td>Albany</td>\n",
       "    </tr>\n",
       "  </tbody>\n",
       "</table>\n",
       "</div>"
      ],
      "text/plain": [
       "   Unnamed: 0        Date  AveragePrice  Total Volume     4046       4225  \\\n",
       "0           0  2015-12-27          1.33      64236.62  1036.74   54454.85   \n",
       "1           1  2015-12-20          1.35      54876.98   674.28   44638.81   \n",
       "2           2  2015-12-13          0.93     118220.22   794.70  109149.67   \n",
       "3           3  2015-12-06          1.08      78992.15  1132.00   71976.41   \n",
       "4           4  2015-11-29          1.28      51039.60   941.48   43838.39   \n",
       "\n",
       "     4770  Total Bags  Small Bags  Large Bags  XLarge Bags          type  \\\n",
       "0   48.16     8696.87     8603.62       93.25          0.0  conventional   \n",
       "1   58.33     9505.56     9408.07       97.49          0.0  conventional   \n",
       "2  130.50     8145.35     8042.21      103.14          0.0  conventional   \n",
       "3   72.58     5811.16     5677.40      133.76          0.0  conventional   \n",
       "4   75.78     6183.95     5986.26      197.69          0.0  conventional   \n",
       "\n",
       "   year  region  \n",
       "0  2015  Albany  \n",
       "1  2015  Albany  \n",
       "2  2015  Albany  \n",
       "3  2015  Albany  \n",
       "4  2015  Albany  "
      ]
     },
     "execution_count": 2,
     "metadata": {},
     "output_type": "execute_result"
    }
   ],
   "source": [
    "data = pd.read_csv(\"avocado.csv\")\n",
    "data.head()"
   ]
  },
  {
   "cell_type": "code",
   "execution_count": 3,
   "metadata": {
    "collapsed": true
   },
   "outputs": [],
   "source": [
    "## All we need are the Date and the 'AveragePrice' of type 'conventional' avocados for the 'TotalUS' region \n",
    "data_reduced = data.loc[ ( data['region']=='TotalUS' ) & ( data['type']=='conventional' ) ].copy()[['Date', 'year', 'AveragePrice']]"
   ]
  },
  {
   "cell_type": "code",
   "execution_count": 4,
   "metadata": {
    "collapsed": true
   },
   "outputs": [],
   "source": [
    "data_reduced = data_reduced.sort_values(['Date'], ascending=['True'])"
   ]
  },
  {
   "cell_type": "code",
   "execution_count": 5,
   "metadata": {
    "collapsed": true
   },
   "outputs": [],
   "source": [
    "data_reduced.reset_index(drop=True, inplace=True)"
   ]
  },
  {
   "cell_type": "code",
   "execution_count": 6,
   "metadata": {},
   "outputs": [
    {
     "name": "stdout",
     "output_type": "stream",
     "text": [
      "<class 'pandas.core.frame.DataFrame'>\n",
      "RangeIndex: 169 entries, 0 to 168\n",
      "Data columns (total 3 columns):\n",
      "Date            169 non-null object\n",
      "year            169 non-null int64\n",
      "AveragePrice    169 non-null float64\n",
      "dtypes: float64(1), int64(1), object(1)\n",
      "memory usage: 4.0+ KB\n"
     ]
    }
   ],
   "source": [
    "# Let's get a sense of what's here\n",
    "data_reduced.info()"
   ]
  },
  {
   "cell_type": "code",
   "execution_count": 7,
   "metadata": {},
   "outputs": [
    {
     "data": {
      "text/html": [
       "<div>\n",
       "<style scoped>\n",
       "    .dataframe tbody tr th:only-of-type {\n",
       "        vertical-align: middle;\n",
       "    }\n",
       "\n",
       "    .dataframe tbody tr th {\n",
       "        vertical-align: top;\n",
       "    }\n",
       "\n",
       "    .dataframe thead th {\n",
       "        text-align: right;\n",
       "    }\n",
       "</style>\n",
       "<table border=\"1\" class=\"dataframe\">\n",
       "  <thead>\n",
       "    <tr style=\"text-align: right;\">\n",
       "      <th></th>\n",
       "      <th>year</th>\n",
       "      <th>AveragePrice</th>\n",
       "    </tr>\n",
       "  </thead>\n",
       "  <tbody>\n",
       "    <tr>\n",
       "      <th>count</th>\n",
       "      <td>169.000000</td>\n",
       "      <td>169.000000</td>\n",
       "    </tr>\n",
       "    <tr>\n",
       "      <th>mean</th>\n",
       "      <td>2016.147929</td>\n",
       "      <td>1.092012</td>\n",
       "    </tr>\n",
       "    <tr>\n",
       "      <th>std</th>\n",
       "      <td>0.942709</td>\n",
       "      <td>0.174119</td>\n",
       "    </tr>\n",
       "    <tr>\n",
       "      <th>min</th>\n",
       "      <td>2015.000000</td>\n",
       "      <td>0.760000</td>\n",
       "    </tr>\n",
       "    <tr>\n",
       "      <th>25%</th>\n",
       "      <td>2015.000000</td>\n",
       "      <td>0.970000</td>\n",
       "    </tr>\n",
       "    <tr>\n",
       "      <th>50%</th>\n",
       "      <td>2016.000000</td>\n",
       "      <td>1.040000</td>\n",
       "    </tr>\n",
       "    <tr>\n",
       "      <th>75%</th>\n",
       "      <td>2017.000000</td>\n",
       "      <td>1.190000</td>\n",
       "    </tr>\n",
       "    <tr>\n",
       "      <th>max</th>\n",
       "      <td>2018.000000</td>\n",
       "      <td>1.650000</td>\n",
       "    </tr>\n",
       "  </tbody>\n",
       "</table>\n",
       "</div>"
      ],
      "text/plain": [
       "              year  AveragePrice\n",
       "count   169.000000    169.000000\n",
       "mean   2016.147929      1.092012\n",
       "std       0.942709      0.174119\n",
       "min    2015.000000      0.760000\n",
       "25%    2015.000000      0.970000\n",
       "50%    2016.000000      1.040000\n",
       "75%    2017.000000      1.190000\n",
       "max    2018.000000      1.650000"
      ]
     },
     "execution_count": 7,
     "metadata": {},
     "output_type": "execute_result"
    }
   ],
   "source": [
    "data_reduced.describe()"
   ]
  },
  {
   "cell_type": "markdown",
   "metadata": {},
   "source": [
    "## Feature Engineering\n",
    "\n",
    "We will want to contruct features that will alow our models to find any periodic variations that are present in the data. Our data has granularity of a week. Since annual periodicity is expected, we should therefore encode the week of the year.  \n",
    "\n",
    "A little research into the avocado industry suggests that Cinco de Mayo might be an important date affecting avocado sales in some regions. Since Cinco de Mayo always occurs in the same week of the year, we don't really have to add a lagged feature for it, unless we want to assess its importance in the model. It's not hard, though, so let's go ahead and do it. \n",
    "\n",
    "It is also reasonable to assume that this week's price depends on last week's price, and more generally on the price history, so we'll want to include some lagged price data. "
   ]
  },
  {
   "cell_type": "code",
   "execution_count": 8,
   "metadata": {
    "collapsed": true
   },
   "outputs": [],
   "source": [
    "data = data_reduced"
   ]
  },
  {
   "cell_type": "code",
   "execution_count": 9,
   "metadata": {
    "collapsed": true
   },
   "outputs": [],
   "source": [
    "data = data.assign( Date=pd.to_datetime(data.Date) )"
   ]
  },
  {
   "cell_type": "code",
   "execution_count": 10,
   "metadata": {
    "collapsed": true
   },
   "outputs": [],
   "source": [
    "# month of the year\n",
    "data = data.assign( month=[x.month for x in data.Date])"
   ]
  },
  {
   "cell_type": "code",
   "execution_count": 11,
   "metadata": {
    "collapsed": true
   },
   "outputs": [],
   "source": [
    "# week of the year\n",
    "data = data.assign( week=[x.isocalendar()[1] for x in data.Date])"
   ]
  },
  {
   "cell_type": "code",
   "execution_count": 12,
   "metadata": {
    "collapsed": true
   },
   "outputs": [],
   "source": [
    "# Weeks until 'Cinco dey Mayo'\n",
    "data = data.assign( weeks_before_cdm=[ dt.datetime(r['year'], 5, 5).isocalendar()[1] - r['week'] for i, r in data.iterrows() ] )"
   ]
  },
  {
   "cell_type": "code",
   "execution_count": 13,
   "metadata": {
    "collapsed": true
   },
   "outputs": [],
   "source": [
    "# Let's sort the data in preparation for splitting into training and test samples\n",
    "data = data.sort_values(['year', 'week' ], ascending=[True, True])"
   ]
  },
  {
   "cell_type": "code",
   "execution_count": 14,
   "metadata": {
    "collapsed": true
   },
   "outputs": [],
   "source": [
    "data = data.reset_index(drop=True)"
   ]
  },
  {
   "cell_type": "code",
   "execution_count": 15,
   "metadata": {},
   "outputs": [
    {
     "data": {
      "text/html": [
       "<div>\n",
       "<style scoped>\n",
       "    .dataframe tbody tr th:only-of-type {\n",
       "        vertical-align: middle;\n",
       "    }\n",
       "\n",
       "    .dataframe tbody tr th {\n",
       "        vertical-align: top;\n",
       "    }\n",
       "\n",
       "    .dataframe thead th {\n",
       "        text-align: right;\n",
       "    }\n",
       "</style>\n",
       "<table border=\"1\" class=\"dataframe\">\n",
       "  <thead>\n",
       "    <tr style=\"text-align: right;\">\n",
       "      <th></th>\n",
       "      <th>Date</th>\n",
       "      <th>year</th>\n",
       "      <th>AveragePrice</th>\n",
       "      <th>month</th>\n",
       "      <th>week</th>\n",
       "      <th>weeks_before_cdm</th>\n",
       "    </tr>\n",
       "  </thead>\n",
       "  <tbody>\n",
       "    <tr>\n",
       "      <th>0</th>\n",
       "      <td>2015-01-04</td>\n",
       "      <td>2015</td>\n",
       "      <td>0.95</td>\n",
       "      <td>1</td>\n",
       "      <td>1</td>\n",
       "      <td>18</td>\n",
       "    </tr>\n",
       "    <tr>\n",
       "      <th>1</th>\n",
       "      <td>2015-01-11</td>\n",
       "      <td>2015</td>\n",
       "      <td>1.01</td>\n",
       "      <td>1</td>\n",
       "      <td>2</td>\n",
       "      <td>17</td>\n",
       "    </tr>\n",
       "    <tr>\n",
       "      <th>2</th>\n",
       "      <td>2015-01-18</td>\n",
       "      <td>2015</td>\n",
       "      <td>1.03</td>\n",
       "      <td>1</td>\n",
       "      <td>3</td>\n",
       "      <td>16</td>\n",
       "    </tr>\n",
       "    <tr>\n",
       "      <th>3</th>\n",
       "      <td>2015-01-25</td>\n",
       "      <td>2015</td>\n",
       "      <td>1.04</td>\n",
       "      <td>1</td>\n",
       "      <td>4</td>\n",
       "      <td>15</td>\n",
       "    </tr>\n",
       "    <tr>\n",
       "      <th>4</th>\n",
       "      <td>2015-02-01</td>\n",
       "      <td>2015</td>\n",
       "      <td>0.89</td>\n",
       "      <td>2</td>\n",
       "      <td>5</td>\n",
       "      <td>14</td>\n",
       "    </tr>\n",
       "    <tr>\n",
       "      <th>5</th>\n",
       "      <td>2015-02-08</td>\n",
       "      <td>2015</td>\n",
       "      <td>0.95</td>\n",
       "      <td>2</td>\n",
       "      <td>6</td>\n",
       "      <td>13</td>\n",
       "    </tr>\n",
       "    <tr>\n",
       "      <th>6</th>\n",
       "      <td>2015-02-15</td>\n",
       "      <td>2015</td>\n",
       "      <td>1.03</td>\n",
       "      <td>2</td>\n",
       "      <td>7</td>\n",
       "      <td>12</td>\n",
       "    </tr>\n",
       "    <tr>\n",
       "      <th>7</th>\n",
       "      <td>2015-02-22</td>\n",
       "      <td>2015</td>\n",
       "      <td>1.02</td>\n",
       "      <td>2</td>\n",
       "      <td>8</td>\n",
       "      <td>11</td>\n",
       "    </tr>\n",
       "    <tr>\n",
       "      <th>8</th>\n",
       "      <td>2015-03-01</td>\n",
       "      <td>2015</td>\n",
       "      <td>0.97</td>\n",
       "      <td>3</td>\n",
       "      <td>9</td>\n",
       "      <td>10</td>\n",
       "    </tr>\n",
       "    <tr>\n",
       "      <th>9</th>\n",
       "      <td>2015-03-08</td>\n",
       "      <td>2015</td>\n",
       "      <td>1.02</td>\n",
       "      <td>3</td>\n",
       "      <td>10</td>\n",
       "      <td>9</td>\n",
       "    </tr>\n",
       "    <tr>\n",
       "      <th>10</th>\n",
       "      <td>2015-03-15</td>\n",
       "      <td>2015</td>\n",
       "      <td>1.04</td>\n",
       "      <td>3</td>\n",
       "      <td>11</td>\n",
       "      <td>8</td>\n",
       "    </tr>\n",
       "    <tr>\n",
       "      <th>11</th>\n",
       "      <td>2015-03-22</td>\n",
       "      <td>2015</td>\n",
       "      <td>1.01</td>\n",
       "      <td>3</td>\n",
       "      <td>12</td>\n",
       "      <td>7</td>\n",
       "    </tr>\n",
       "    <tr>\n",
       "      <th>12</th>\n",
       "      <td>2015-03-29</td>\n",
       "      <td>2015</td>\n",
       "      <td>1.04</td>\n",
       "      <td>3</td>\n",
       "      <td>13</td>\n",
       "      <td>6</td>\n",
       "    </tr>\n",
       "    <tr>\n",
       "      <th>13</th>\n",
       "      <td>2015-04-05</td>\n",
       "      <td>2015</td>\n",
       "      <td>1.06</td>\n",
       "      <td>4</td>\n",
       "      <td>14</td>\n",
       "      <td>5</td>\n",
       "    </tr>\n",
       "    <tr>\n",
       "      <th>14</th>\n",
       "      <td>2015-04-12</td>\n",
       "      <td>2015</td>\n",
       "      <td>1.02</td>\n",
       "      <td>4</td>\n",
       "      <td>15</td>\n",
       "      <td>4</td>\n",
       "    </tr>\n",
       "  </tbody>\n",
       "</table>\n",
       "</div>"
      ],
      "text/plain": [
       "         Date  year  AveragePrice  month  week  weeks_before_cdm\n",
       "0  2015-01-04  2015          0.95      1     1                18\n",
       "1  2015-01-11  2015          1.01      1     2                17\n",
       "2  2015-01-18  2015          1.03      1     3                16\n",
       "3  2015-01-25  2015          1.04      1     4                15\n",
       "4  2015-02-01  2015          0.89      2     5                14\n",
       "5  2015-02-08  2015          0.95      2     6                13\n",
       "6  2015-02-15  2015          1.03      2     7                12\n",
       "7  2015-02-22  2015          1.02      2     8                11\n",
       "8  2015-03-01  2015          0.97      3     9                10\n",
       "9  2015-03-08  2015          1.02      3    10                 9\n",
       "10 2015-03-15  2015          1.04      3    11                 8\n",
       "11 2015-03-22  2015          1.01      3    12                 7\n",
       "12 2015-03-29  2015          1.04      3    13                 6\n",
       "13 2015-04-05  2015          1.06      4    14                 5\n",
       "14 2015-04-12  2015          1.02      4    15                 4"
      ]
     },
     "execution_count": 15,
     "metadata": {},
     "output_type": "execute_result"
    }
   ],
   "source": [
    "data.head(15)"
   ]
  },
  {
   "cell_type": "code",
   "execution_count": null,
   "metadata": {
    "collapsed": true
   },
   "outputs": [],
   "source": []
  },
  {
   "cell_type": "markdown",
   "metadata": {},
   "source": [
    "Good. Now let's add in a few lagged pricing features. "
   ]
  },
  {
   "cell_type": "code",
   "execution_count": 16,
   "metadata": {},
   "outputs": [
    {
     "data": {
      "image/png": "[encoded data removed]",
      "text/plain": [
       "<matplotlib.figure.Figure at 0x106b5d550>"
      ]
     },
     "metadata": {},
     "output_type": "display_data"
    }
   ],
   "source": [
    "## First, let's take a look at our time series\n",
    "ax = data.plot('Date', 'AveragePrice', kind='line')"
   ]
  },
  {
   "cell_type": "code",
   "execution_count": 17,
   "metadata": {},
   "outputs": [
    {
     "data": {
      "image/png": "[encoded data removed]",
      "text/plain": [
       "<matplotlib.figure.Figure at 0x1133805c0>"
      ]
     },
     "metadata": {},
     "output_type": "display_data"
    }
   ],
   "source": [
    "ax = pd.plotting.autocorrelation_plot(data['AveragePrice'])"
   ]
  },
  {
   "cell_type": "markdown",
   "metadata": {},
   "source": [
    "We can see that the current week's average price is most strongly correlated with the prior ~10 weeks of prices, so let's add in lagged pricing data for the prior 10 weeks. "
   ]
  },
  {
   "cell_type": "code",
   "execution_count": 18,
   "metadata": {},
   "outputs": [
    {
     "data": {
      "text/plain": [
       "Timestamp('2015-03-08 00:00:00')"
      ]
     },
     "execution_count": 18,
     "metadata": {},
     "output_type": "execute_result"
    }
   ],
   "source": [
    "data['Date'][9]"
   ]
  },
  {
   "cell_type": "code",
   "execution_count": 19,
   "metadata": {
    "collapsed": true
   },
   "outputs": [],
   "source": [
    "lagged_price = [ data['AveragePrice'].iloc[10-n:len(data)-n].values for n in np.arange(1,11) ]"
   ]
  },
  {
   "cell_type": "code",
   "execution_count": 20,
   "metadata": {
    "collapsed": true
   },
   "outputs": [],
   "source": [
    "lags = [ 'price_lagged_' + str(n) for n in np.arange(1,11) ]"
   ]
  },
  {
   "cell_type": "code",
   "execution_count": 21,
   "metadata": {
    "collapsed": true
   },
   "outputs": [],
   "source": [
    "lagged_price_df = pd.DataFrame( { l:p for l, p in zip(lags,lagged_price) } )  "
   ]
  },
  {
   "cell_type": "code",
   "execution_count": 22,
   "metadata": {
    "collapsed": true
   },
   "outputs": [],
   "source": [
    "lagged_price_df = lagged_price_df.reset_index(drop=True)"
   ]
  },
  {
   "cell_type": "code",
   "execution_count": 23,
   "metadata": {},
   "outputs": [
    {
     "data": {
      "text/html": [
       "<div>\n",
       "<style scoped>\n",
       "    .dataframe tbody tr th:only-of-type {\n",
       "        vertical-align: middle;\n",
       "    }\n",
       "\n",
       "    .dataframe tbody tr th {\n",
       "        vertical-align: top;\n",
       "    }\n",
       "\n",
       "    .dataframe thead th {\n",
       "        text-align: right;\n",
       "    }\n",
       "</style>\n",
       "<table border=\"1\" class=\"dataframe\">\n",
       "  <thead>\n",
       "    <tr style=\"text-align: right;\">\n",
       "      <th></th>\n",
       "      <th>price_lagged_1</th>\n",
       "      <th>price_lagged_2</th>\n",
       "      <th>price_lagged_3</th>\n",
       "      <th>price_lagged_4</th>\n",
       "      <th>price_lagged_5</th>\n",
       "      <th>price_lagged_6</th>\n",
       "      <th>price_lagged_7</th>\n",
       "      <th>price_lagged_8</th>\n",
       "      <th>price_lagged_9</th>\n",
       "      <th>price_lagged_10</th>\n",
       "    </tr>\n",
       "  </thead>\n",
       "  <tbody>\n",
       "    <tr>\n",
       "      <th>0</th>\n",
       "      <td>1.02</td>\n",
       "      <td>0.97</td>\n",
       "      <td>1.02</td>\n",
       "      <td>1.03</td>\n",
       "      <td>0.95</td>\n",
       "      <td>0.89</td>\n",
       "      <td>1.04</td>\n",
       "      <td>1.03</td>\n",
       "      <td>1.01</td>\n",
       "      <td>0.95</td>\n",
       "    </tr>\n",
       "    <tr>\n",
       "      <th>1</th>\n",
       "      <td>1.04</td>\n",
       "      <td>1.02</td>\n",
       "      <td>0.97</td>\n",
       "      <td>1.02</td>\n",
       "      <td>1.03</td>\n",
       "      <td>0.95</td>\n",
       "      <td>0.89</td>\n",
       "      <td>1.04</td>\n",
       "      <td>1.03</td>\n",
       "      <td>1.01</td>\n",
       "    </tr>\n",
       "    <tr>\n",
       "      <th>2</th>\n",
       "      <td>1.01</td>\n",
       "      <td>1.04</td>\n",
       "      <td>1.02</td>\n",
       "      <td>0.97</td>\n",
       "      <td>1.02</td>\n",
       "      <td>1.03</td>\n",
       "      <td>0.95</td>\n",
       "      <td>0.89</td>\n",
       "      <td>1.04</td>\n",
       "      <td>1.03</td>\n",
       "    </tr>\n",
       "    <tr>\n",
       "      <th>3</th>\n",
       "      <td>1.04</td>\n",
       "      <td>1.01</td>\n",
       "      <td>1.04</td>\n",
       "      <td>1.02</td>\n",
       "      <td>0.97</td>\n",
       "      <td>1.02</td>\n",
       "      <td>1.03</td>\n",
       "      <td>0.95</td>\n",
       "      <td>0.89</td>\n",
       "      <td>1.04</td>\n",
       "    </tr>\n",
       "    <tr>\n",
       "      <th>4</th>\n",
       "      <td>1.06</td>\n",
       "      <td>1.04</td>\n",
       "      <td>1.01</td>\n",
       "      <td>1.04</td>\n",
       "      <td>1.02</td>\n",
       "      <td>0.97</td>\n",
       "      <td>1.02</td>\n",
       "      <td>1.03</td>\n",
       "      <td>0.95</td>\n",
       "      <td>0.89</td>\n",
       "    </tr>\n",
       "    <tr>\n",
       "      <th>5</th>\n",
       "      <td>1.02</td>\n",
       "      <td>1.06</td>\n",
       "      <td>1.04</td>\n",
       "      <td>1.01</td>\n",
       "      <td>1.04</td>\n",
       "      <td>1.02</td>\n",
       "      <td>0.97</td>\n",
       "      <td>1.02</td>\n",
       "      <td>1.03</td>\n",
       "      <td>0.95</td>\n",
       "    </tr>\n",
       "    <tr>\n",
       "      <th>6</th>\n",
       "      <td>1.03</td>\n",
       "      <td>1.02</td>\n",
       "      <td>1.06</td>\n",
       "      <td>1.04</td>\n",
       "      <td>1.01</td>\n",
       "      <td>1.04</td>\n",
       "      <td>1.02</td>\n",
       "      <td>0.97</td>\n",
       "      <td>1.02</td>\n",
       "      <td>1.03</td>\n",
       "    </tr>\n",
       "    <tr>\n",
       "      <th>7</th>\n",
       "      <td>1.07</td>\n",
       "      <td>1.03</td>\n",
       "      <td>1.02</td>\n",
       "      <td>1.06</td>\n",
       "      <td>1.04</td>\n",
       "      <td>1.01</td>\n",
       "      <td>1.04</td>\n",
       "      <td>1.02</td>\n",
       "      <td>0.97</td>\n",
       "      <td>1.02</td>\n",
       "    </tr>\n",
       "    <tr>\n",
       "      <th>8</th>\n",
       "      <td>0.96</td>\n",
       "      <td>1.07</td>\n",
       "      <td>1.03</td>\n",
       "      <td>1.02</td>\n",
       "      <td>1.06</td>\n",
       "      <td>1.04</td>\n",
       "      <td>1.01</td>\n",
       "      <td>1.04</td>\n",
       "      <td>1.02</td>\n",
       "      <td>0.97</td>\n",
       "    </tr>\n",
       "    <tr>\n",
       "      <th>9</th>\n",
       "      <td>1.02</td>\n",
       "      <td>0.96</td>\n",
       "      <td>1.07</td>\n",
       "      <td>1.03</td>\n",
       "      <td>1.02</td>\n",
       "      <td>1.06</td>\n",
       "      <td>1.04</td>\n",
       "      <td>1.01</td>\n",
       "      <td>1.04</td>\n",
       "      <td>1.02</td>\n",
       "    </tr>\n",
       "    <tr>\n",
       "      <th>10</th>\n",
       "      <td>1.06</td>\n",
       "      <td>1.02</td>\n",
       "      <td>0.96</td>\n",
       "      <td>1.07</td>\n",
       "      <td>1.03</td>\n",
       "      <td>1.02</td>\n",
       "      <td>1.06</td>\n",
       "      <td>1.04</td>\n",
       "      <td>1.01</td>\n",
       "      <td>1.04</td>\n",
       "    </tr>\n",
       "    <tr>\n",
       "      <th>11</th>\n",
       "      <td>1.04</td>\n",
       "      <td>1.06</td>\n",
       "      <td>1.02</td>\n",
       "      <td>0.96</td>\n",
       "      <td>1.07</td>\n",
       "      <td>1.03</td>\n",
       "      <td>1.02</td>\n",
       "      <td>1.06</td>\n",
       "      <td>1.04</td>\n",
       "      <td>1.01</td>\n",
       "    </tr>\n",
       "    <tr>\n",
       "      <th>12</th>\n",
       "      <td>1.03</td>\n",
       "      <td>1.04</td>\n",
       "      <td>1.06</td>\n",
       "      <td>1.02</td>\n",
       "      <td>0.96</td>\n",
       "      <td>1.07</td>\n",
       "      <td>1.03</td>\n",
       "      <td>1.02</td>\n",
       "      <td>1.06</td>\n",
       "      <td>1.04</td>\n",
       "    </tr>\n",
       "    <tr>\n",
       "      <th>13</th>\n",
       "      <td>1.00</td>\n",
       "      <td>1.03</td>\n",
       "      <td>1.04</td>\n",
       "      <td>1.06</td>\n",
       "      <td>1.02</td>\n",
       "      <td>0.96</td>\n",
       "      <td>1.07</td>\n",
       "      <td>1.03</td>\n",
       "      <td>1.02</td>\n",
       "      <td>1.06</td>\n",
       "    </tr>\n",
       "    <tr>\n",
       "      <th>14</th>\n",
       "      <td>0.98</td>\n",
       "      <td>1.00</td>\n",
       "      <td>1.03</td>\n",
       "      <td>1.04</td>\n",
       "      <td>1.06</td>\n",
       "      <td>1.02</td>\n",
       "      <td>0.96</td>\n",
       "      <td>1.07</td>\n",
       "      <td>1.03</td>\n",
       "      <td>1.02</td>\n",
       "    </tr>\n",
       "  </tbody>\n",
       "</table>\n",
       "</div>"
      ],
      "text/plain": [
       "    price_lagged_1  price_lagged_2  price_lagged_3  price_lagged_4  \\\n",
       "0             1.02            0.97            1.02            1.03   \n",
       "1             1.04            1.02            0.97            1.02   \n",
       "2             1.01            1.04            1.02            0.97   \n",
       "3             1.04            1.01            1.04            1.02   \n",
       "4             1.06            1.04            1.01            1.04   \n",
       "5             1.02            1.06            1.04            1.01   \n",
       "6             1.03            1.02            1.06            1.04   \n",
       "7             1.07            1.03            1.02            1.06   \n",
       "8             0.96            1.07            1.03            1.02   \n",
       "9             1.02            0.96            1.07            1.03   \n",
       "10            1.06            1.02            0.96            1.07   \n",
       "11            1.04            1.06            1.02            0.96   \n",
       "12            1.03            1.04            1.06            1.02   \n",
       "13            1.00            1.03            1.04            1.06   \n",
       "14            0.98            1.00            1.03            1.04   \n",
       "\n",
       "    price_lagged_5  price_lagged_6  price_lagged_7  price_lagged_8  \\\n",
       "0             0.95            0.89            1.04            1.03   \n",
       "1             1.03            0.95            0.89            1.04   \n",
       "2             1.02            1.03            0.95            0.89   \n",
       "3             0.97            1.02            1.03            0.95   \n",
       "4             1.02            0.97            1.02            1.03   \n",
       "5             1.04            1.02            0.97            1.02   \n",
       "6             1.01            1.04            1.02            0.97   \n",
       "7             1.04            1.01            1.04            1.02   \n",
       "8             1.06            1.04            1.01            1.04   \n",
       "9             1.02            1.06            1.04            1.01   \n",
       "10            1.03            1.02            1.06            1.04   \n",
       "11            1.07            1.03            1.02            1.06   \n",
       "12            0.96            1.07            1.03            1.02   \n",
       "13            1.02            0.96            1.07            1.03   \n",
       "14            1.06            1.02            0.96            1.07   \n",
       "\n",
       "    price_lagged_9  price_lagged_10  \n",
       "0             1.01             0.95  \n",
       "1             1.03             1.01  \n",
       "2             1.04             1.03  \n",
       "3             0.89             1.04  \n",
       "4             0.95             0.89  \n",
       "5             1.03             0.95  \n",
       "6             1.02             1.03  \n",
       "7             0.97             1.02  \n",
       "8             1.02             0.97  \n",
       "9             1.04             1.02  \n",
       "10            1.01             1.04  \n",
       "11            1.04             1.01  \n",
       "12            1.06             1.04  \n",
       "13            1.02             1.06  \n",
       "14            1.03             1.02  "
      ]
     },
     "execution_count": 23,
     "metadata": {},
     "output_type": "execute_result"
    }
   ],
   "source": [
    "lagged_price_df.head(15)"
   ]
  },
  {
   "cell_type": "code",
   "execution_count": 24,
   "metadata": {
    "collapsed": true
   },
   "outputs": [],
   "source": [
    "# Now we chop off the first 10 samples of the data set\n",
    "data_chopped = data.iloc[10:].copy()"
   ]
  },
  {
   "cell_type": "code",
   "execution_count": 25,
   "metadata": {},
   "outputs": [
    {
     "data": {
      "text/html": [
       "<div>\n",
       "<style scoped>\n",
       "    .dataframe tbody tr th:only-of-type {\n",
       "        vertical-align: middle;\n",
       "    }\n",
       "\n",
       "    .dataframe tbody tr th {\n",
       "        vertical-align: top;\n",
       "    }\n",
       "\n",
       "    .dataframe thead th {\n",
       "        text-align: right;\n",
       "    }\n",
       "</style>\n",
       "<table border=\"1\" class=\"dataframe\">\n",
       "  <thead>\n",
       "    <tr style=\"text-align: right;\">\n",
       "      <th></th>\n",
       "      <th>Date</th>\n",
       "      <th>year</th>\n",
       "      <th>AveragePrice</th>\n",
       "      <th>month</th>\n",
       "      <th>week</th>\n",
       "      <th>weeks_before_cdm</th>\n",
       "    </tr>\n",
       "  </thead>\n",
       "  <tbody>\n",
       "    <tr>\n",
       "      <th>10</th>\n",
       "      <td>2015-03-15</td>\n",
       "      <td>2015</td>\n",
       "      <td>1.04</td>\n",
       "      <td>3</td>\n",
       "      <td>11</td>\n",
       "      <td>8</td>\n",
       "    </tr>\n",
       "    <tr>\n",
       "      <th>11</th>\n",
       "      <td>2015-03-22</td>\n",
       "      <td>2015</td>\n",
       "      <td>1.01</td>\n",
       "      <td>3</td>\n",
       "      <td>12</td>\n",
       "      <td>7</td>\n",
       "    </tr>\n",
       "    <tr>\n",
       "      <th>12</th>\n",
       "      <td>2015-03-29</td>\n",
       "      <td>2015</td>\n",
       "      <td>1.04</td>\n",
       "      <td>3</td>\n",
       "      <td>13</td>\n",
       "      <td>6</td>\n",
       "    </tr>\n",
       "    <tr>\n",
       "      <th>13</th>\n",
       "      <td>2015-04-05</td>\n",
       "      <td>2015</td>\n",
       "      <td>1.06</td>\n",
       "      <td>4</td>\n",
       "      <td>14</td>\n",
       "      <td>5</td>\n",
       "    </tr>\n",
       "    <tr>\n",
       "      <th>14</th>\n",
       "      <td>2015-04-12</td>\n",
       "      <td>2015</td>\n",
       "      <td>1.02</td>\n",
       "      <td>4</td>\n",
       "      <td>15</td>\n",
       "      <td>4</td>\n",
       "    </tr>\n",
       "    <tr>\n",
       "      <th>15</th>\n",
       "      <td>2015-04-19</td>\n",
       "      <td>2015</td>\n",
       "      <td>1.03</td>\n",
       "      <td>4</td>\n",
       "      <td>16</td>\n",
       "      <td>3</td>\n",
       "    </tr>\n",
       "    <tr>\n",
       "      <th>16</th>\n",
       "      <td>2015-04-26</td>\n",
       "      <td>2015</td>\n",
       "      <td>1.07</td>\n",
       "      <td>4</td>\n",
       "      <td>17</td>\n",
       "      <td>2</td>\n",
       "    </tr>\n",
       "    <tr>\n",
       "      <th>17</th>\n",
       "      <td>2015-05-03</td>\n",
       "      <td>2015</td>\n",
       "      <td>0.96</td>\n",
       "      <td>5</td>\n",
       "      <td>18</td>\n",
       "      <td>1</td>\n",
       "    </tr>\n",
       "    <tr>\n",
       "      <th>18</th>\n",
       "      <td>2015-05-10</td>\n",
       "      <td>2015</td>\n",
       "      <td>1.02</td>\n",
       "      <td>5</td>\n",
       "      <td>19</td>\n",
       "      <td>0</td>\n",
       "    </tr>\n",
       "    <tr>\n",
       "      <th>19</th>\n",
       "      <td>2015-05-17</td>\n",
       "      <td>2015</td>\n",
       "      <td>1.06</td>\n",
       "      <td>5</td>\n",
       "      <td>20</td>\n",
       "      <td>-1</td>\n",
       "    </tr>\n",
       "    <tr>\n",
       "      <th>20</th>\n",
       "      <td>2015-05-24</td>\n",
       "      <td>2015</td>\n",
       "      <td>1.04</td>\n",
       "      <td>5</td>\n",
       "      <td>21</td>\n",
       "      <td>-2</td>\n",
       "    </tr>\n",
       "    <tr>\n",
       "      <th>21</th>\n",
       "      <td>2015-05-31</td>\n",
       "      <td>2015</td>\n",
       "      <td>1.03</td>\n",
       "      <td>5</td>\n",
       "      <td>22</td>\n",
       "      <td>-3</td>\n",
       "    </tr>\n",
       "    <tr>\n",
       "      <th>22</th>\n",
       "      <td>2015-06-07</td>\n",
       "      <td>2015</td>\n",
       "      <td>1.00</td>\n",
       "      <td>6</td>\n",
       "      <td>23</td>\n",
       "      <td>-4</td>\n",
       "    </tr>\n",
       "    <tr>\n",
       "      <th>23</th>\n",
       "      <td>2015-06-14</td>\n",
       "      <td>2015</td>\n",
       "      <td>0.98</td>\n",
       "      <td>6</td>\n",
       "      <td>24</td>\n",
       "      <td>-5</td>\n",
       "    </tr>\n",
       "    <tr>\n",
       "      <th>24</th>\n",
       "      <td>2015-06-21</td>\n",
       "      <td>2015</td>\n",
       "      <td>1.02</td>\n",
       "      <td>6</td>\n",
       "      <td>25</td>\n",
       "      <td>-6</td>\n",
       "    </tr>\n",
       "  </tbody>\n",
       "</table>\n",
       "</div>"
      ],
      "text/plain": [
       "         Date  year  AveragePrice  month  week  weeks_before_cdm\n",
       "10 2015-03-15  2015          1.04      3    11                 8\n",
       "11 2015-03-22  2015          1.01      3    12                 7\n",
       "12 2015-03-29  2015          1.04      3    13                 6\n",
       "13 2015-04-05  2015          1.06      4    14                 5\n",
       "14 2015-04-12  2015          1.02      4    15                 4\n",
       "15 2015-04-19  2015          1.03      4    16                 3\n",
       "16 2015-04-26  2015          1.07      4    17                 2\n",
       "17 2015-05-03  2015          0.96      5    18                 1\n",
       "18 2015-05-10  2015          1.02      5    19                 0\n",
       "19 2015-05-17  2015          1.06      5    20                -1\n",
       "20 2015-05-24  2015          1.04      5    21                -2\n",
       "21 2015-05-31  2015          1.03      5    22                -3\n",
       "22 2015-06-07  2015          1.00      6    23                -4\n",
       "23 2015-06-14  2015          0.98      6    24                -5\n",
       "24 2015-06-21  2015          1.02      6    25                -6"
      ]
     },
     "execution_count": 25,
     "metadata": {},
     "output_type": "execute_result"
    }
   ],
   "source": [
    "data_chopped.head(15)"
   ]
  },
  {
   "cell_type": "code",
   "execution_count": 26,
   "metadata": {
    "collapsed": true
   },
   "outputs": [],
   "source": [
    "data_chopped = data_chopped.reset_index(drop=True)"
   ]
  },
  {
   "cell_type": "code",
   "execution_count": 27,
   "metadata": {},
   "outputs": [
    {
     "data": {
      "text/html": [
       "<div>\n",
       "<style scoped>\n",
       "    .dataframe tbody tr th:only-of-type {\n",
       "        vertical-align: middle;\n",
       "    }\n",
       "\n",
       "    .dataframe tbody tr th {\n",
       "        vertical-align: top;\n",
       "    }\n",
       "\n",
       "    .dataframe thead th {\n",
       "        text-align: right;\n",
       "    }\n",
       "</style>\n",
       "<table border=\"1\" class=\"dataframe\">\n",
       "  <thead>\n",
       "    <tr style=\"text-align: right;\">\n",
       "      <th></th>\n",
       "      <th>Date</th>\n",
       "      <th>year</th>\n",
       "      <th>AveragePrice</th>\n",
       "      <th>month</th>\n",
       "      <th>week</th>\n",
       "      <th>weeks_before_cdm</th>\n",
       "    </tr>\n",
       "  </thead>\n",
       "  <tbody>\n",
       "    <tr>\n",
       "      <th>0</th>\n",
       "      <td>2015-03-15</td>\n",
       "      <td>2015</td>\n",
       "      <td>1.04</td>\n",
       "      <td>3</td>\n",
       "      <td>11</td>\n",
       "      <td>8</td>\n",
       "    </tr>\n",
       "    <tr>\n",
       "      <th>1</th>\n",
       "      <td>2015-03-22</td>\n",
       "      <td>2015</td>\n",
       "      <td>1.01</td>\n",
       "      <td>3</td>\n",
       "      <td>12</td>\n",
       "      <td>7</td>\n",
       "    </tr>\n",
       "    <tr>\n",
       "      <th>2</th>\n",
       "      <td>2015-03-29</td>\n",
       "      <td>2015</td>\n",
       "      <td>1.04</td>\n",
       "      <td>3</td>\n",
       "      <td>13</td>\n",
       "      <td>6</td>\n",
       "    </tr>\n",
       "    <tr>\n",
       "      <th>3</th>\n",
       "      <td>2015-04-05</td>\n",
       "      <td>2015</td>\n",
       "      <td>1.06</td>\n",
       "      <td>4</td>\n",
       "      <td>14</td>\n",
       "      <td>5</td>\n",
       "    </tr>\n",
       "    <tr>\n",
       "      <th>4</th>\n",
       "      <td>2015-04-12</td>\n",
       "      <td>2015</td>\n",
       "      <td>1.02</td>\n",
       "      <td>4</td>\n",
       "      <td>15</td>\n",
       "      <td>4</td>\n",
       "    </tr>\n",
       "    <tr>\n",
       "      <th>5</th>\n",
       "      <td>2015-04-19</td>\n",
       "      <td>2015</td>\n",
       "      <td>1.03</td>\n",
       "      <td>4</td>\n",
       "      <td>16</td>\n",
       "      <td>3</td>\n",
       "    </tr>\n",
       "    <tr>\n",
       "      <th>6</th>\n",
       "      <td>2015-04-26</td>\n",
       "      <td>2015</td>\n",
       "      <td>1.07</td>\n",
       "      <td>4</td>\n",
       "      <td>17</td>\n",
       "      <td>2</td>\n",
       "    </tr>\n",
       "    <tr>\n",
       "      <th>7</th>\n",
       "      <td>2015-05-03</td>\n",
       "      <td>2015</td>\n",
       "      <td>0.96</td>\n",
       "      <td>5</td>\n",
       "      <td>18</td>\n",
       "      <td>1</td>\n",
       "    </tr>\n",
       "    <tr>\n",
       "      <th>8</th>\n",
       "      <td>2015-05-10</td>\n",
       "      <td>2015</td>\n",
       "      <td>1.02</td>\n",
       "      <td>5</td>\n",
       "      <td>19</td>\n",
       "      <td>0</td>\n",
       "    </tr>\n",
       "    <tr>\n",
       "      <th>9</th>\n",
       "      <td>2015-05-17</td>\n",
       "      <td>2015</td>\n",
       "      <td>1.06</td>\n",
       "      <td>5</td>\n",
       "      <td>20</td>\n",
       "      <td>-1</td>\n",
       "    </tr>\n",
       "    <tr>\n",
       "      <th>10</th>\n",
       "      <td>2015-05-24</td>\n",
       "      <td>2015</td>\n",
       "      <td>1.04</td>\n",
       "      <td>5</td>\n",
       "      <td>21</td>\n",
       "      <td>-2</td>\n",
       "    </tr>\n",
       "    <tr>\n",
       "      <th>11</th>\n",
       "      <td>2015-05-31</td>\n",
       "      <td>2015</td>\n",
       "      <td>1.03</td>\n",
       "      <td>5</td>\n",
       "      <td>22</td>\n",
       "      <td>-3</td>\n",
       "    </tr>\n",
       "    <tr>\n",
       "      <th>12</th>\n",
       "      <td>2015-06-07</td>\n",
       "      <td>2015</td>\n",
       "      <td>1.00</td>\n",
       "      <td>6</td>\n",
       "      <td>23</td>\n",
       "      <td>-4</td>\n",
       "    </tr>\n",
       "    <tr>\n",
       "      <th>13</th>\n",
       "      <td>2015-06-14</td>\n",
       "      <td>2015</td>\n",
       "      <td>0.98</td>\n",
       "      <td>6</td>\n",
       "      <td>24</td>\n",
       "      <td>-5</td>\n",
       "    </tr>\n",
       "    <tr>\n",
       "      <th>14</th>\n",
       "      <td>2015-06-21</td>\n",
       "      <td>2015</td>\n",
       "      <td>1.02</td>\n",
       "      <td>6</td>\n",
       "      <td>25</td>\n",
       "      <td>-6</td>\n",
       "    </tr>\n",
       "  </tbody>\n",
       "</table>\n",
       "</div>"
      ],
      "text/plain": [
       "         Date  year  AveragePrice  month  week  weeks_before_cdm\n",
       "0  2015-03-15  2015          1.04      3    11                 8\n",
       "1  2015-03-22  2015          1.01      3    12                 7\n",
       "2  2015-03-29  2015          1.04      3    13                 6\n",
       "3  2015-04-05  2015          1.06      4    14                 5\n",
       "4  2015-04-12  2015          1.02      4    15                 4\n",
       "5  2015-04-19  2015          1.03      4    16                 3\n",
       "6  2015-04-26  2015          1.07      4    17                 2\n",
       "7  2015-05-03  2015          0.96      5    18                 1\n",
       "8  2015-05-10  2015          1.02      5    19                 0\n",
       "9  2015-05-17  2015          1.06      5    20                -1\n",
       "10 2015-05-24  2015          1.04      5    21                -2\n",
       "11 2015-05-31  2015          1.03      5    22                -3\n",
       "12 2015-06-07  2015          1.00      6    23                -4\n",
       "13 2015-06-14  2015          0.98      6    24                -5\n",
       "14 2015-06-21  2015          1.02      6    25                -6"
      ]
     },
     "execution_count": 27,
     "metadata": {},
     "output_type": "execute_result"
    }
   ],
   "source": [
    "data_chopped.head(15)"
   ]
  },
  {
   "cell_type": "code",
   "execution_count": 28,
   "metadata": {
    "collapsed": true
   },
   "outputs": [],
   "source": [
    "merged_data = data_chopped.merge( lagged_price_df, left_index=True, right_index=True )"
   ]
  },
  {
   "cell_type": "code",
   "execution_count": 29,
   "metadata": {},
   "outputs": [
    {
     "data": {
      "text/html": [
       "<div>\n",
       "<style scoped>\n",
       "    .dataframe tbody tr th:only-of-type {\n",
       "        vertical-align: middle;\n",
       "    }\n",
       "\n",
       "    .dataframe tbody tr th {\n",
       "        vertical-align: top;\n",
       "    }\n",
       "\n",
       "    .dataframe thead th {\n",
       "        text-align: right;\n",
       "    }\n",
       "</style>\n",
       "<table border=\"1\" class=\"dataframe\">\n",
       "  <thead>\n",
       "    <tr style=\"text-align: right;\">\n",
       "      <th></th>\n",
       "      <th>Date</th>\n",
       "      <th>year</th>\n",
       "      <th>AveragePrice</th>\n",
       "      <th>month</th>\n",
       "      <th>week</th>\n",
       "      <th>weeks_before_cdm</th>\n",
       "      <th>price_lagged_1</th>\n",
       "      <th>price_lagged_2</th>\n",
       "      <th>price_lagged_3</th>\n",
       "      <th>price_lagged_4</th>\n",
       "      <th>price_lagged_5</th>\n",
       "      <th>price_lagged_6</th>\n",
       "      <th>price_lagged_7</th>\n",
       "      <th>price_lagged_8</th>\n",
       "      <th>price_lagged_9</th>\n",
       "      <th>price_lagged_10</th>\n",
       "    </tr>\n",
       "  </thead>\n",
       "  <tbody>\n",
       "    <tr>\n",
       "      <th>0</th>\n",
       "      <td>2015-03-15</td>\n",
       "      <td>2015</td>\n",
       "      <td>1.04</td>\n",
       "      <td>3</td>\n",
       "      <td>11</td>\n",
       "      <td>8</td>\n",
       "      <td>1.02</td>\n",
       "      <td>0.97</td>\n",
       "      <td>1.02</td>\n",
       "      <td>1.03</td>\n",
       "      <td>0.95</td>\n",
       "      <td>0.89</td>\n",
       "      <td>1.04</td>\n",
       "      <td>1.03</td>\n",
       "      <td>1.01</td>\n",
       "      <td>0.95</td>\n",
       "    </tr>\n",
       "    <tr>\n",
       "      <th>1</th>\n",
       "      <td>2015-03-22</td>\n",
       "      <td>2015</td>\n",
       "      <td>1.01</td>\n",
       "      <td>3</td>\n",
       "      <td>12</td>\n",
       "      <td>7</td>\n",
       "      <td>1.04</td>\n",
       "      <td>1.02</td>\n",
       "      <td>0.97</td>\n",
       "      <td>1.02</td>\n",
       "      <td>1.03</td>\n",
       "      <td>0.95</td>\n",
       "      <td>0.89</td>\n",
       "      <td>1.04</td>\n",
       "      <td>1.03</td>\n",
       "      <td>1.01</td>\n",
       "    </tr>\n",
       "    <tr>\n",
       "      <th>2</th>\n",
       "      <td>2015-03-29</td>\n",
       "      <td>2015</td>\n",
       "      <td>1.04</td>\n",
       "      <td>3</td>\n",
       "      <td>13</td>\n",
       "      <td>6</td>\n",
       "      <td>1.01</td>\n",
       "      <td>1.04</td>\n",
       "      <td>1.02</td>\n",
       "      <td>0.97</td>\n",
       "      <td>1.02</td>\n",
       "      <td>1.03</td>\n",
       "      <td>0.95</td>\n",
       "      <td>0.89</td>\n",
       "      <td>1.04</td>\n",
       "      <td>1.03</td>\n",
       "    </tr>\n",
       "    <tr>\n",
       "      <th>3</th>\n",
       "      <td>2015-04-05</td>\n",
       "      <td>2015</td>\n",
       "      <td>1.06</td>\n",
       "      <td>4</td>\n",
       "      <td>14</td>\n",
       "      <td>5</td>\n",
       "      <td>1.04</td>\n",
       "      <td>1.01</td>\n",
       "      <td>1.04</td>\n",
       "      <td>1.02</td>\n",
       "      <td>0.97</td>\n",
       "      <td>1.02</td>\n",
       "      <td>1.03</td>\n",
       "      <td>0.95</td>\n",
       "      <td>0.89</td>\n",
       "      <td>1.04</td>\n",
       "    </tr>\n",
       "    <tr>\n",
       "      <th>4</th>\n",
       "      <td>2015-04-12</td>\n",
       "      <td>2015</td>\n",
       "      <td>1.02</td>\n",
       "      <td>4</td>\n",
       "      <td>15</td>\n",
       "      <td>4</td>\n",
       "      <td>1.06</td>\n",
       "      <td>1.04</td>\n",
       "      <td>1.01</td>\n",
       "      <td>1.04</td>\n",
       "      <td>1.02</td>\n",
       "      <td>0.97</td>\n",
       "      <td>1.02</td>\n",
       "      <td>1.03</td>\n",
       "      <td>0.95</td>\n",
       "      <td>0.89</td>\n",
       "    </tr>\n",
       "    <tr>\n",
       "      <th>5</th>\n",
       "      <td>2015-04-19</td>\n",
       "      <td>2015</td>\n",
       "      <td>1.03</td>\n",
       "      <td>4</td>\n",
       "      <td>16</td>\n",
       "      <td>3</td>\n",
       "      <td>1.02</td>\n",
       "      <td>1.06</td>\n",
       "      <td>1.04</td>\n",
       "      <td>1.01</td>\n",
       "      <td>1.04</td>\n",
       "      <td>1.02</td>\n",
       "      <td>0.97</td>\n",
       "      <td>1.02</td>\n",
       "      <td>1.03</td>\n",
       "      <td>0.95</td>\n",
       "    </tr>\n",
       "    <tr>\n",
       "      <th>6</th>\n",
       "      <td>2015-04-26</td>\n",
       "      <td>2015</td>\n",
       "      <td>1.07</td>\n",
       "      <td>4</td>\n",
       "      <td>17</td>\n",
       "      <td>2</td>\n",
       "      <td>1.03</td>\n",
       "      <td>1.02</td>\n",
       "      <td>1.06</td>\n",
       "      <td>1.04</td>\n",
       "      <td>1.01</td>\n",
       "      <td>1.04</td>\n",
       "      <td>1.02</td>\n",
       "      <td>0.97</td>\n",
       "      <td>1.02</td>\n",
       "      <td>1.03</td>\n",
       "    </tr>\n",
       "    <tr>\n",
       "      <th>7</th>\n",
       "      <td>2015-05-03</td>\n",
       "      <td>2015</td>\n",
       "      <td>0.96</td>\n",
       "      <td>5</td>\n",
       "      <td>18</td>\n",
       "      <td>1</td>\n",
       "      <td>1.07</td>\n",
       "      <td>1.03</td>\n",
       "      <td>1.02</td>\n",
       "      <td>1.06</td>\n",
       "      <td>1.04</td>\n",
       "      <td>1.01</td>\n",
       "      <td>1.04</td>\n",
       "      <td>1.02</td>\n",
       "      <td>0.97</td>\n",
       "      <td>1.02</td>\n",
       "    </tr>\n",
       "    <tr>\n",
       "      <th>8</th>\n",
       "      <td>2015-05-10</td>\n",
       "      <td>2015</td>\n",
       "      <td>1.02</td>\n",
       "      <td>5</td>\n",
       "      <td>19</td>\n",
       "      <td>0</td>\n",
       "      <td>0.96</td>\n",
       "      <td>1.07</td>\n",
       "      <td>1.03</td>\n",
       "      <td>1.02</td>\n",
       "      <td>1.06</td>\n",
       "      <td>1.04</td>\n",
       "      <td>1.01</td>\n",
       "      <td>1.04</td>\n",
       "      <td>1.02</td>\n",
       "      <td>0.97</td>\n",
       "    </tr>\n",
       "    <tr>\n",
       "      <th>9</th>\n",
       "      <td>2015-05-17</td>\n",
       "      <td>2015</td>\n",
       "      <td>1.06</td>\n",
       "      <td>5</td>\n",
       "      <td>20</td>\n",
       "      <td>-1</td>\n",
       "      <td>1.02</td>\n",
       "      <td>0.96</td>\n",
       "      <td>1.07</td>\n",
       "      <td>1.03</td>\n",
       "      <td>1.02</td>\n",
       "      <td>1.06</td>\n",
       "      <td>1.04</td>\n",
       "      <td>1.01</td>\n",
       "      <td>1.04</td>\n",
       "      <td>1.02</td>\n",
       "    </tr>\n",
       "    <tr>\n",
       "      <th>10</th>\n",
       "      <td>2015-05-24</td>\n",
       "      <td>2015</td>\n",
       "      <td>1.04</td>\n",
       "      <td>5</td>\n",
       "      <td>21</td>\n",
       "      <td>-2</td>\n",
       "      <td>1.06</td>\n",
       "      <td>1.02</td>\n",
       "      <td>0.96</td>\n",
       "      <td>1.07</td>\n",
       "      <td>1.03</td>\n",
       "      <td>1.02</td>\n",
       "      <td>1.06</td>\n",
       "      <td>1.04</td>\n",
       "      <td>1.01</td>\n",
       "      <td>1.04</td>\n",
       "    </tr>\n",
       "    <tr>\n",
       "      <th>11</th>\n",
       "      <td>2015-05-31</td>\n",
       "      <td>2015</td>\n",
       "      <td>1.03</td>\n",
       "      <td>5</td>\n",
       "      <td>22</td>\n",
       "      <td>-3</td>\n",
       "      <td>1.04</td>\n",
       "      <td>1.06</td>\n",
       "      <td>1.02</td>\n",
       "      <td>0.96</td>\n",
       "      <td>1.07</td>\n",
       "      <td>1.03</td>\n",
       "      <td>1.02</td>\n",
       "      <td>1.06</td>\n",
       "      <td>1.04</td>\n",
       "      <td>1.01</td>\n",
       "    </tr>\n",
       "    <tr>\n",
       "      <th>12</th>\n",
       "      <td>2015-06-07</td>\n",
       "      <td>2015</td>\n",
       "      <td>1.00</td>\n",
       "      <td>6</td>\n",
       "      <td>23</td>\n",
       "      <td>-4</td>\n",
       "      <td>1.03</td>\n",
       "      <td>1.04</td>\n",
       "      <td>1.06</td>\n",
       "      <td>1.02</td>\n",
       "      <td>0.96</td>\n",
       "      <td>1.07</td>\n",
       "      <td>1.03</td>\n",
       "      <td>1.02</td>\n",
       "      <td>1.06</td>\n",
       "      <td>1.04</td>\n",
       "    </tr>\n",
       "    <tr>\n",
       "      <th>13</th>\n",
       "      <td>2015-06-14</td>\n",
       "      <td>2015</td>\n",
       "      <td>0.98</td>\n",
       "      <td>6</td>\n",
       "      <td>24</td>\n",
       "      <td>-5</td>\n",
       "      <td>1.00</td>\n",
       "      <td>1.03</td>\n",
       "      <td>1.04</td>\n",
       "      <td>1.06</td>\n",
       "      <td>1.02</td>\n",
       "      <td>0.96</td>\n",
       "      <td>1.07</td>\n",
       "      <td>1.03</td>\n",
       "      <td>1.02</td>\n",
       "      <td>1.06</td>\n",
       "    </tr>\n",
       "    <tr>\n",
       "      <th>14</th>\n",
       "      <td>2015-06-21</td>\n",
       "      <td>2015</td>\n",
       "      <td>1.02</td>\n",
       "      <td>6</td>\n",
       "      <td>25</td>\n",
       "      <td>-6</td>\n",
       "      <td>0.98</td>\n",
       "      <td>1.00</td>\n",
       "      <td>1.03</td>\n",
       "      <td>1.04</td>\n",
       "      <td>1.06</td>\n",
       "      <td>1.02</td>\n",
       "      <td>0.96</td>\n",
       "      <td>1.07</td>\n",
       "      <td>1.03</td>\n",
       "      <td>1.02</td>\n",
       "    </tr>\n",
       "    <tr>\n",
       "      <th>15</th>\n",
       "      <td>2015-06-28</td>\n",
       "      <td>2015</td>\n",
       "      <td>1.06</td>\n",
       "      <td>6</td>\n",
       "      <td>26</td>\n",
       "      <td>-7</td>\n",
       "      <td>1.02</td>\n",
       "      <td>0.98</td>\n",
       "      <td>1.00</td>\n",
       "      <td>1.03</td>\n",
       "      <td>1.04</td>\n",
       "      <td>1.06</td>\n",
       "      <td>1.02</td>\n",
       "      <td>0.96</td>\n",
       "      <td>1.07</td>\n",
       "      <td>1.03</td>\n",
       "    </tr>\n",
       "    <tr>\n",
       "      <th>16</th>\n",
       "      <td>2015-07-05</td>\n",
       "      <td>2015</td>\n",
       "      <td>1.04</td>\n",
       "      <td>7</td>\n",
       "      <td>27</td>\n",
       "      <td>-8</td>\n",
       "      <td>1.06</td>\n",
       "      <td>1.02</td>\n",
       "      <td>0.98</td>\n",
       "      <td>1.00</td>\n",
       "      <td>1.03</td>\n",
       "      <td>1.04</td>\n",
       "      <td>1.06</td>\n",
       "      <td>1.02</td>\n",
       "      <td>0.96</td>\n",
       "      <td>1.07</td>\n",
       "    </tr>\n",
       "    <tr>\n",
       "      <th>17</th>\n",
       "      <td>2015-07-12</td>\n",
       "      <td>2015</td>\n",
       "      <td>1.07</td>\n",
       "      <td>7</td>\n",
       "      <td>28</td>\n",
       "      <td>-9</td>\n",
       "      <td>1.04</td>\n",
       "      <td>1.06</td>\n",
       "      <td>1.02</td>\n",
       "      <td>0.98</td>\n",
       "      <td>1.00</td>\n",
       "      <td>1.03</td>\n",
       "      <td>1.04</td>\n",
       "      <td>1.06</td>\n",
       "      <td>1.02</td>\n",
       "      <td>0.96</td>\n",
       "    </tr>\n",
       "    <tr>\n",
       "      <th>18</th>\n",
       "      <td>2015-07-19</td>\n",
       "      <td>2015</td>\n",
       "      <td>1.07</td>\n",
       "      <td>7</td>\n",
       "      <td>29</td>\n",
       "      <td>-10</td>\n",
       "      <td>1.07</td>\n",
       "      <td>1.04</td>\n",
       "      <td>1.06</td>\n",
       "      <td>1.02</td>\n",
       "      <td>0.98</td>\n",
       "      <td>1.00</td>\n",
       "      <td>1.03</td>\n",
       "      <td>1.04</td>\n",
       "      <td>1.06</td>\n",
       "      <td>1.02</td>\n",
       "    </tr>\n",
       "    <tr>\n",
       "      <th>19</th>\n",
       "      <td>2015-07-26</td>\n",
       "      <td>2015</td>\n",
       "      <td>1.07</td>\n",
       "      <td>7</td>\n",
       "      <td>30</td>\n",
       "      <td>-11</td>\n",
       "      <td>1.07</td>\n",
       "      <td>1.07</td>\n",
       "      <td>1.04</td>\n",
       "      <td>1.06</td>\n",
       "      <td>1.02</td>\n",
       "      <td>0.98</td>\n",
       "      <td>1.00</td>\n",
       "      <td>1.03</td>\n",
       "      <td>1.04</td>\n",
       "      <td>1.06</td>\n",
       "    </tr>\n",
       "  </tbody>\n",
       "</table>\n",
       "</div>"
      ],
      "text/plain": [
       "         Date  year  AveragePrice  month  week  weeks_before_cdm  \\\n",
       "0  2015-03-15  2015          1.04      3    11                 8   \n",
       "1  2015-03-22  2015          1.01      3    12                 7   \n",
       "2  2015-03-29  2015          1.04      3    13                 6   \n",
       "3  2015-04-05  2015          1.06      4    14                 5   \n",
       "4  2015-04-12  2015          1.02      4    15                 4   \n",
       "5  2015-04-19  2015          1.03      4    16                 3   \n",
       "6  2015-04-26  2015          1.07      4    17                 2   \n",
       "7  2015-05-03  2015          0.96      5    18                 1   \n",
       "8  2015-05-10  2015          1.02      5    19                 0   \n",
       "9  2015-05-17  2015          1.06      5    20                -1   \n",
       "10 2015-05-24  2015          1.04      5    21                -2   \n",
       "11 2015-05-31  2015          1.03      5    22                -3   \n",
       "12 2015-06-07  2015          1.00      6    23                -4   \n",
       "13 2015-06-14  2015          0.98      6    24                -5   \n",
       "14 2015-06-21  2015          1.02      6    25                -6   \n",
       "15 2015-06-28  2015          1.06      6    26                -7   \n",
       "16 2015-07-05  2015          1.04      7    27                -8   \n",
       "17 2015-07-12  2015          1.07      7    28                -9   \n",
       "18 2015-07-19  2015          1.07      7    29               -10   \n",
       "19 2015-07-26  2015          1.07      7    30               -11   \n",
       "\n",
       "    price_lagged_1  price_lagged_2  price_lagged_3  price_lagged_4  \\\n",
       "0             1.02            0.97            1.02            1.03   \n",
       "1             1.04            1.02            0.97            1.02   \n",
       "2             1.01            1.04            1.02            0.97   \n",
       "3             1.04            1.01            1.04            1.02   \n",
       "4             1.06            1.04            1.01            1.04   \n",
       "5             1.02            1.06            1.04            1.01   \n",
       "6             1.03            1.02            1.06            1.04   \n",
       "7             1.07            1.03            1.02            1.06   \n",
       "8             0.96            1.07            1.03            1.02   \n",
       "9             1.02            0.96            1.07            1.03   \n",
       "10            1.06            1.02            0.96            1.07   \n",
       "11            1.04            1.06            1.02            0.96   \n",
       "12            1.03            1.04            1.06            1.02   \n",
       "13            1.00            1.03            1.04            1.06   \n",
       "14            0.98            1.00            1.03            1.04   \n",
       "15            1.02            0.98            1.00            1.03   \n",
       "16            1.06            1.02            0.98            1.00   \n",
       "17            1.04            1.06            1.02            0.98   \n",
       "18            1.07            1.04            1.06            1.02   \n",
       "19            1.07            1.07            1.04            1.06   \n",
       "\n",
       "    price_lagged_5  price_lagged_6  price_lagged_7  price_lagged_8  \\\n",
       "0             0.95            0.89            1.04            1.03   \n",
       "1             1.03            0.95            0.89            1.04   \n",
       "2             1.02            1.03            0.95            0.89   \n",
       "3             0.97            1.02            1.03            0.95   \n",
       "4             1.02            0.97            1.02            1.03   \n",
       "5             1.04            1.02            0.97            1.02   \n",
       "6             1.01            1.04            1.02            0.97   \n",
       "7             1.04            1.01            1.04            1.02   \n",
       "8             1.06            1.04            1.01            1.04   \n",
       "9             1.02            1.06            1.04            1.01   \n",
       "10            1.03            1.02            1.06            1.04   \n",
       "11            1.07            1.03            1.02            1.06   \n",
       "12            0.96            1.07            1.03            1.02   \n",
       "13            1.02            0.96            1.07            1.03   \n",
       "14            1.06            1.02            0.96            1.07   \n",
       "15            1.04            1.06            1.02            0.96   \n",
       "16            1.03            1.04            1.06            1.02   \n",
       "17            1.00            1.03            1.04            1.06   \n",
       "18            0.98            1.00            1.03            1.04   \n",
       "19            1.02            0.98            1.00            1.03   \n",
       "\n",
       "    price_lagged_9  price_lagged_10  \n",
       "0             1.01             0.95  \n",
       "1             1.03             1.01  \n",
       "2             1.04             1.03  \n",
       "3             0.89             1.04  \n",
       "4             0.95             0.89  \n",
       "5             1.03             0.95  \n",
       "6             1.02             1.03  \n",
       "7             0.97             1.02  \n",
       "8             1.02             0.97  \n",
       "9             1.04             1.02  \n",
       "10            1.01             1.04  \n",
       "11            1.04             1.01  \n",
       "12            1.06             1.04  \n",
       "13            1.02             1.06  \n",
       "14            1.03             1.02  \n",
       "15            1.07             1.03  \n",
       "16            0.96             1.07  \n",
       "17            1.02             0.96  \n",
       "18            1.06             1.02  \n",
       "19            1.04             1.06  "
      ]
     },
     "execution_count": 29,
     "metadata": {},
     "output_type": "execute_result"
    }
   ],
   "source": [
    "merged_data.head(20)"
   ]
  },
  {
   "cell_type": "markdown",
   "metadata": {},
   "source": [
    "## X, Y Data preparation"
   ]
  },
  {
   "cell_type": "code",
   "execution_count": null,
   "metadata": {
    "collapsed": true
   },
   "outputs": [],
   "source": []
  },
  {
   "cell_type": "code",
   "execution_count": null,
   "metadata": {
    "collapsed": true
   },
   "outputs": [],
   "source": [
    "list(merged_data.keys())"
   ]
  },
  {
   "cell_type": "code",
   "execution_count": null,
   "metadata": {
    "collapsed": true
   },
   "outputs": [],
   "source": [
    "merged_data = merged_data.drop(columns=['Date'])"
   ]
  },
  {
   "cell_type": "code",
   "execution_count": null,
   "metadata": {
    "collapsed": true
   },
   "outputs": [],
   "source": [
    "target = \"AveragePrice\""
   ]
  },
  {
   "cell_type": "code",
   "execution_count": null,
   "metadata": {
    "collapsed": true
   },
   "outputs": [],
   "source": [
    "# X_price_cols = [ c for c in region_consolidated_df.columns.values if ('AveragePrice' in c) & ('TotalUS' not in c) ]"
   ]
  },
  {
   "cell_type": "code",
   "execution_count": null,
   "metadata": {
    "collapsed": true
   },
   "outputs": [],
   "source": [
    "X_features = [ c for c in merged_data.columns.values if 'AveragePrice' not in c ]"
   ]
  },
  {
   "cell_type": "code",
   "execution_count": null,
   "metadata": {
    "collapsed": true
   },
   "outputs": [],
   "source": [
    "X = merged_data[X_features].values\n",
    "Y = merged_data[target].values.ravel()"
   ]
  },
  {
   "cell_type": "markdown",
   "metadata": {},
   "source": [
    "# Models"
   ]
  },
  {
   "cell_type": "markdown",
   "metadata": {},
   "source": [
    "### Random Forest Regressor with Regional Average Prices"
   ]
  },
  {
   "cell_type": "code",
   "execution_count": null,
   "metadata": {
    "collapsed": true
   },
   "outputs": [],
   "source": [
    "clf_rfn = make_pipeline(StandardScaler(), RandomForestRegressor(random_state=1, n_estimators=150))"
   ]
  },
  {
   "cell_type": "code",
   "execution_count": null,
   "metadata": {
    "collapsed": true
   },
   "outputs": [],
   "source": [
    "tscv = TimeSeriesSplit(n_splits=5)"
   ]
  },
  {
   "cell_type": "code",
   "execution_count": null,
   "metadata": {
    "collapsed": true
   },
   "outputs": [],
   "source": [
    "scores_rf = cross_validate(clf_rfn, X, Y, cv=tscv, n_jobs=-1 )"
   ]
  },
  {
   "cell_type": "code",
   "execution_count": null,
   "metadata": {
    "collapsed": true
   },
   "outputs": [],
   "source": [
    "np.mean(scores_rf['test_score'])"
   ]
  },
  {
   "cell_type": "code",
   "execution_count": null,
   "metadata": {
    "collapsed": true
   },
   "outputs": [],
   "source": []
  },
  {
   "cell_type": "markdown",
   "metadata": {},
   "source": [
    "### Linear Regression"
   ]
  },
  {
   "cell_type": "code",
   "execution_count": null,
   "metadata": {
    "collapsed": true
   },
   "outputs": [],
   "source": [
    "clf_lr = make_pipeline(StandardScaler(), LinearRegression())"
   ]
  },
  {
   "cell_type": "code",
   "execution_count": null,
   "metadata": {
    "collapsed": true
   },
   "outputs": [],
   "source": [
    "scores_lr = cross_validate(clf_lr, X, Y, cv=tscv, n_jobs=-1)\n"
   ]
  },
  {
   "cell_type": "code",
   "execution_count": null,
   "metadata": {
    "collapsed": true
   },
   "outputs": [],
   "source": [
    "np.mean(scores_lr['test_score'])"
   ]
  },
  {
   "cell_type": "code",
   "execution_count": null,
   "metadata": {
    "collapsed": true
   },
   "outputs": [],
   "source": [
    "scores_lr"
   ]
  },
  {
   "cell_type": "markdown",
   "metadata": {},
   "source": [
    "### Prophet\n",
    "\n",
    "Prophet is an open-source procedure developed by Facebook for forecasting time series data based on an additive model where non-linear trends are fit with yearly, weekly, and daily seasonality, plus holiday effects. It works best with time series that have strong seasonal effects and several seasons of historical data. Prophet is robust to missing data and shifts in the trend, and typically handles outliers well."
   ]
  },
  {
   "cell_type": "code",
   "execution_count": null,
   "metadata": {
    "collapsed": true
   },
   "outputs": [],
   "source": [
    "# Let's predict the price of conventional avocados using Prophet. \n",
    "# To do this, we must define a DataFrame with just the Date and the y-value to be predicted"
   ]
  },
  {
   "cell_type": "code",
   "execution_count": null,
   "metadata": {
    "collapsed": true
   },
   "outputs": [],
   "source": [
    "cols = ['Date', 'AveragePrice']\n",
    "df = data[cols]"
   ]
  },
  {
   "cell_type": "code",
   "execution_count": null,
   "metadata": {
    "collapsed": true
   },
   "outputs": [],
   "source": [
    "df = df.sort_values(['Date'], ascending=[True]).reset_index(drop=True)"
   ]
  },
  {
   "cell_type": "code",
   "execution_count": null,
   "metadata": {
    "collapsed": true
   },
   "outputs": [],
   "source": [
    "df = df.rename(columns={'Date':'ds', 'AveragePrice':'y'})"
   ]
  },
  {
   "cell_type": "code",
   "execution_count": null,
   "metadata": {
    "collapsed": true
   },
   "outputs": [],
   "source": [
    "df.head()"
   ]
  },
  {
   "cell_type": "code",
   "execution_count": null,
   "metadata": {
    "collapsed": true
   },
   "outputs": [],
   "source": [
    "m = Prophet(daily_seasonality=False, weekly_seasonality=False)"
   ]
  },
  {
   "cell_type": "code",
   "execution_count": null,
   "metadata": {
    "collapsed": true
   },
   "outputs": [],
   "source": [
    "# For storing the model evaluation results\n",
    "models = []\n",
    "predictions = []\n",
    "training_sets = []\n",
    "testing_sets = []\n",
    "fit_results = []\n",
    "scores = []"
   ]
  },
  {
   "cell_type": "code",
   "execution_count": null,
   "metadata": {
    "collapsed": true,
    "scrolled": false
   },
   "outputs": [],
   "source": [
    "for train_tsi, test_tsi in tscv.split(np.arange(len(df))):\n",
    "    m = Prophet()\n",
    "    df_train = df.iloc[train_tsi].copy()\n",
    "    m.fit(df_train)\n",
    "    df_test = df.iloc[test_tsi].copy()\n",
    "    future = m.make_future_dataframe(len(test_tsi), freq='W', include_history=True)\n",
    "    prediction = m.predict(future)\n",
    "    \n",
    "    test_subframe = prediction.iloc[test_tsi]\n",
    "    train_subframe = prediction.iloc[train_tsi]\n",
    "    rmse = math.sqrt(mean_squared_error(list(df_test['y']),list(test_subframe['yhat'])))\n",
    "    error_percentage = rmse / np.average(list(df_test['y']))\n",
    "    bias = mean_absolute_error(list(df_test['y']),list(test_subframe['yhat']))\n",
    "    accuracy = bias / np.average(list(df_test['y']))\n",
    "    scores.append( (rmse, error_percentage, bias, accuracy) )\n",
    "    \n",
    "    rmse = math.sqrt(mean_squared_error(list(df_train['y']),list(train_subframe['yhat'])))\n",
    "    error_percentage = rmse / np.average(list(df_train['y']))\n",
    "    bias = mean_absolute_error(list(df_train['y']),list(train_subframe['yhat']))\n",
    "    accuracy = bias / np.average(list(df_train['y']))    \n",
    "\n",
    "    fit_results.append( (rmse, error_percentage, bias, accuracy ) )\n",
    "    \n",
    "    models.append(m)\n",
    "    predictions.append(prediction)\n",
    "    \n",
    "    m.plot(prediction, uncertainty=True)\n",
    "    \n",
    "    "
   ]
  },
  {
   "cell_type": "code",
   "execution_count": null,
   "metadata": {
    "collapsed": true,
    "scrolled": true
   },
   "outputs": [],
   "source": [
    "tsc"
   ]
  },
  {
   "cell_type": "code",
   "execution_count": null,
   "metadata": {
    "collapsed": true
   },
   "outputs": [],
   "source": [
    "mean_mse = np.mean( [ scores[i][0] for i in range(len(scores)) ] )"
   ]
  },
  {
   "cell_type": "code",
   "execution_count": null,
   "metadata": {
    "collapsed": true
   },
   "outputs": [],
   "source": [
    "1 - mean_mse"
   ]
  },
  {
   "cell_type": "code",
   "execution_count": null,
   "metadata": {
    "collapsed": true
   },
   "outputs": [],
   "source": [
    "clf_prophet = make_pipeline(StandardScaler(), Prophet(daily_seasonality=False, weekly_seasonality=False))"
   ]
  },
  {
   "cell_type": "code",
   "execution_count": null,
   "metadata": {
    "collapsed": true
   },
   "outputs": [],
   "source": [
    "scores_prophet = cross_validate(clf_prophet, X, Y, cv=tscv, n_jobs=-1)"
   ]
  },
  {
   "cell_type": "code",
   "execution_count": null,
   "metadata": {
    "collapsed": true
   },
   "outputs": [],
   "source": []
  },
  {
   "cell_type": "code",
   "execution_count": null,
   "metadata": {
    "collapsed": true
   },
   "outputs": [],
   "source": []
  },
  {
   "cell_type": "markdown",
   "metadata": {},
   "source": [
    "### XGBoost "
   ]
  },
  {
   "cell_type": "code",
   "execution_count": null,
   "metadata": {
    "collapsed": true
   },
   "outputs": [],
   "source": [
    "clf_xgboost = make_pipeline(StandardScaler(), XGBRegressor(n_estimators=1000, learning_rate=0.5, early_stopping_rounds=5))"
   ]
  },
  {
   "cell_type": "code",
   "execution_count": null,
   "metadata": {
    "collapsed": true
   },
   "outputs": [],
   "source": [
    "scores_xgb = cross_validate(clf_xgboost, X, Y, cv=tscv)"
   ]
  },
  {
   "cell_type": "code",
   "execution_count": null,
   "metadata": {
    "collapsed": true
   },
   "outputs": [],
   "source": [
    "print(\"\\nXGBoost Model with numerical data only:\")\n",
    "print(f\"{round(np.mean(scores_xgb['test_score']),3)*100}% accuracy\")\n"
   ]
  },
  {
   "cell_type": "markdown",
   "metadata": {},
   "source": [
    "## Ensemble Learning & Model Stacking\n",
    "In the section above we have demostrated the application of several different models to our time-series data. In the section below, we will retrain these models, this time in the context of ensemble learning. "
   ]
  },
  {
   "cell_type": "code",
   "execution_count": null,
   "metadata": {
    "collapsed": true
   },
   "outputs": [],
   "source": [
    "# Define some helper functions\n",
    "# Class to extend the Sklearn classifier\n",
    "class SklearnHelper(object):\n",
    "    def __init__(self, clf, params=None, seed=0,):\n",
    "        params['random_state'] = seed\n",
    "        self.clf = clf(**params)\n",
    "\n",
    "    def train(self, x_train, y_train):\n",
    "        self.clf.fit(x_train, y_train)\n",
    "\n",
    "    def predict(self, x):\n",
    "        return self.clf.predict(x)\n",
    "    \n",
    "    def fit(self,x,y):\n",
    "        return self.clf.fit(x,y)\n",
    "    \n",
    "    def cross_validate(self, x, y, cv, n_jobs=-1):\n",
    "        return cross_validate( self.clf, x, y, cv=cv, n_jobs=n_jobs )\n",
    "    \n",
    "    def feature_importances(self,x,y):\n",
    "        return self.clf.fit(x,y).feature_importances_"
   ]
  },
  {
   "cell_type": "code",
   "execution_count": null,
   "metadata": {
    "collapsed": true
   },
   "outputs": [],
   "source": [
    "def get_oof(clf, cv, x_train, y_train, x_test, n_train):\n",
    "    oof_train = np.zeros((ntrain,))\n",
    "    oof_test = np.zeros((ntest,))\n",
    "    oof_test_skf = np.empty((n_splits, n_splits)\n",
    "\n",
    "    for i, (train_index, test_index) in enumerate(cv):\n",
    "        x_tr = x_train[train_index]\n",
    "        y_tr = y_train[train_index]\n",
    "        x_te = x_train[test_index]\n",
    "\n",
    "        clf.train(x_tr, y_tr)\n",
    "\n",
    "        oof_train[test_index] = clf.predict(x_test)\n",
    "        oof_test_skf[i, :] = clf.predict(x_test)\n",
    "\n",
    "    oof_test[:] = oof_test_skf.mean(axis=0)\n",
    "    return oof_train.reshape(-1, 1), oof_test.reshape(-1, 1)"
   ]
  },
  {
   "cell_type": "code",
   "execution_count": null,
   "metadata": {
    "collapsed": true
   },
   "outputs": [],
   "source": []
  },
  {
   "cell_type": "code",
   "execution_count": null,
   "metadata": {
    "collapsed": true
   },
   "outputs": [],
   "source": [
    "# Model Parameters\n",
    "SEED = 0\n",
    "\n",
    "# Random Forrest\n",
    "rf_params = {\n",
    "    'n_jobs': -1,\n",
    "    'n_estimators': 500,\n",
    "}\n",
    "rf_features = [ f for f in X_features if 'AveragePrice' not in f and 'Date' not in f ]\n",
    "\n",
    "# XG Boost\n",
    "xgb_params = {\n",
    "    'n_estimators' : 1000, \n",
    "    'learning_rate' : 0.5,\n",
    "    'early_stopping_rounds' : 5,\n",
    "}\n",
    "xgb_features = [ f for f in X_features if 'AveragePrice' not in f and 'Date' not in f ]\n",
    "\n",
    "Y_features = ['AveragePrice']"
   ]
  },
  {
   "cell_type": "markdown",
   "metadata": {},
   "source": [
    "To begin, we must split up our data set into train+test and hold-out subsamples. We will use the test+train sample to train the L1 models, and the test and hold-out (or out-of-fold) sets to train and test the aggregator, respectively. "
   ]
  },
  {
   "cell_type": "code",
   "execution_count": null,
   "metadata": {
    "collapsed": true
   },
   "outputs": [],
   "source": [
    "n_samples_total = len(data)"
   ]
  },
  {
   "cell_type": "code",
   "execution_count": null,
   "metadata": {
    "collapsed": true
   },
   "outputs": [],
   "source": [
    "i_train_start = 0\n",
    "i_test_start = len(data)//3\n",
    "i_oof_start = 2*len(data)//3"
   ]
  },
  {
   "cell_type": "code",
   "execution_count": null,
   "metadata": {
    "collapsed": true
   },
   "outputs": [],
   "source": [
    "X_train = merged_data.iloc[i_train_start:i_test_start][X_features].values\n",
    "Y_train = merged_data.iloc[i_train_start:i_test_start]['AveragePrice'].values\n",
    "X_test = merged_data.iloc[i_test_start:i_oof_start][X_features].values\n",
    "Y_test = merged_data.iloc[i_test_start:i_oof_start]['AveragePrice'].values.ravel()\n",
    "X_oof = merged_data.iloc[i_oof_start:][X_features].values\n",
    "Y_oof = merged_data.iloc[i_oof_start:]['AveragePrice'].values.ravel()\n"
   ]
  },
  {
   "cell_type": "markdown",
   "metadata": {},
   "source": [
    "#### Train the models"
   ]
  },
  {
   "cell_type": "code",
   "execution_count": null,
   "metadata": {
    "collapsed": true
   },
   "outputs": [],
   "source": [
    "n_splits=5\n",
    "tscv = TimeSeriesSplit(n_splits=n_splits)"
   ]
  },
  {
   "cell_type": "code",
   "execution_count": null,
   "metadata": {
    "collapsed": true
   },
   "outputs": [],
   "source": [
    "rf_oof_train, rf_oof_test = get_oof(rf, tscv, X_train, Y_train, X_test)\n",
    "xgb_oof_train, xgb_oof_test = get_oof(xgb, tscv, X_train, Y_train, X_test)"
   ]
  },
  {
   "cell_type": "code",
   "execution_count": null,
   "metadata": {
    "collapsed": true
   },
   "outputs": [],
   "source": [
    "## Let's look at feature importance "
   ]
  },
  {
   "cell_type": "code",
   "execution_count": null,
   "metadata": {
    "collapsed": true
   },
   "outputs": [],
   "source": [
    "rf_feature = rf.feature_importances(X_train, Y_train)\n",
    "xgb_feature = xgb.feature_importances(X_train, Y_train)"
   ]
  },
  {
   "cell_type": "code",
   "execution_count": null,
   "metadata": {
    "collapsed": true
   },
   "outputs": [],
   "source": []
  },
  {
   "cell_type": "code",
   "execution_count": null,
   "metadata": {
    "collapsed": true
   },
   "outputs": [],
   "source": []
  }
 ],
 "metadata": {
  "kernelspec": {
   "display_name": "Python 3",
   "language": "python",
   "name": "python3"
  },
  "language_info": {
   "codemirror_mode": {
    "name": "ipython",
    "version": 3
   },
   "file_extension": ".py",
   "mimetype": "text/x-python",
   "name": "python",
   "nbconvert_exporter": "python",
   "pygments_lexer": "ipython3",
   "version": "3.6.2"
  }
 },
 "nbformat": 4,
 "nbformat_minor": 2
}
